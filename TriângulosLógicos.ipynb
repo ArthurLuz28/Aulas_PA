{
  "nbformat": 4,
  "nbformat_minor": 0,
  "metadata": {
    "colab": {
      "provenance": [],
      "authorship_tag": "ABX9TyMwnNZ/0E9wtF27yAwpUdVt",
      "include_colab_link": true
    },
    "kernelspec": {
      "name": "python3",
      "display_name": "Python 3"
    },
    "language_info": {
      "name": "python"
    }
  },
  "cells": [
    {
      "cell_type": "markdown",
      "metadata": {
        "id": "view-in-github",
        "colab_type": "text"
      },
      "source": [
        "<a href=\"https://colab.research.google.com/github/ArthurLuz28/Aulas_PA/blob/main/Tri%C3%A2ngulosL%C3%B3gicos.ipynb\" target=\"_parent\"><img src=\"https://colab.research.google.com/assets/colab-badge.svg\" alt=\"Open In Colab\"/></a>"
      ]
    },
    {
      "cell_type": "code",
      "execution_count": 33,
      "metadata": {
        "colab": {
          "base_uri": "https://localhost:8080/"
        },
        "id": "j6JemI3ESsT2",
        "outputId": "3e3bf35d-eede-4290-b076-d525385bf389"
      },
      "outputs": [
        {
          "output_type": "stream",
          "name": "stdout",
          "text": [
            "Primeiro valor: 3\n",
            "Segundo valor: 2\n",
            "Terceiro valor: 2\n",
            "Isso é um triângulo? True\n"
          ]
        }
      ],
      "source": [
        "#Triângulo\n",
        "a = float(input(\"Primeiro valor: \"))\n",
        "b = float(input(\"Segundo valor: \"))\n",
        "c = float(input(\"Terceiro valor: \"))\n",
        "\n",
        "triangulo = ((a+b>c) and (b+c>a) and (a+c>b))\n",
        "print(\"Isso é um triângulo?\", triangulo)"
      ]
    },
    {
      "cell_type": "code",
      "source": [
        "#Triângulo Equilátero\n",
        "equilatero = ((a==b) and (a==c) and (b==a)) and triangulo\n",
        "print(\"Isso é um triângulo Equilátero?\", equilatero)"
      ],
      "metadata": {
        "colab": {
          "base_uri": "https://localhost:8080/"
        },
        "id": "QIl9SN-xUlkM",
        "outputId": "b642615d-3518-4879-ced2-71bc29b6fc8d"
      },
      "execution_count": 34,
      "outputs": [
        {
          "output_type": "stream",
          "name": "stdout",
          "text": [
            "Isso é um triângulo Equilátero? False\n"
          ]
        }
      ]
    },
    {
      "cell_type": "code",
      "source": [
        "#Triângulo Isósceles\n",
        "isosceles = ((a==b) ^ (a==c) or (b==c)) and triangulo\n",
        "print(\"Isso é um triângulo Isósceles?\", isosceles)"
      ],
      "metadata": {
        "colab": {
          "base_uri": "https://localhost:8080/"
        },
        "id": "YerW5IdDVdbH",
        "outputId": "f31a6c84-8f13-4b40-902a-6c683104cc0d"
      },
      "execution_count": 35,
      "outputs": [
        {
          "output_type": "stream",
          "name": "stdout",
          "text": [
            "Isso é um triângulo Isósceles? True\n"
          ]
        }
      ]
    },
    {
      "cell_type": "code",
      "source": [
        "#Triângulo Escaleno\n",
        "escaleno = ((a!=b) and (a!=c) and (b!=c)) and triangulo\n",
        "print(\"Isso é um triângulo Escaleno?\", escaleno)"
      ],
      "metadata": {
        "colab": {
          "base_uri": "https://localhost:8080/"
        },
        "id": "vSAY3EKyWkri",
        "outputId": "295524e4-dfe9-4d77-f689-71a5ca0edb82"
      },
      "execution_count": 36,
      "outputs": [
        {
          "output_type": "stream",
          "name": "stdout",
          "text": [
            "Isso é um triângulo Escaleno? False\n"
          ]
        }
      ]
    }
  ]
}