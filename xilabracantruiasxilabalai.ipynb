{
  "nbformat": 4,
  "nbformat_minor": 0,
  "metadata": {
    "colab": {
      "provenance": [],
      "authorship_tag": "ABX9TyMbhwGmfn4+FY6N9KAhz8e2",
      "include_colab_link": true
    },
    "kernelspec": {
      "name": "python3",
      "display_name": "Python 3"
    },
    "language_info": {
      "name": "python"
    }
  },
  "cells": [
    {
      "cell_type": "markdown",
      "metadata": {
        "id": "view-in-github",
        "colab_type": "text"
      },
      "source": [
        "<a href=\"https://colab.research.google.com/github/ArthurLuz28/Aulas_PA/blob/main/xilabracantruiasxilabalai.ipynb\" target=\"_parent\"><img src=\"https://colab.research.google.com/assets/colab-badge.svg\" alt=\"Open In Colab\"/></a>"
      ]
    },
    {
      "cell_type": "markdown",
      "source": [],
      "metadata": {
        "id": "lhl3O5rpZ7G2"
      }
    },
    {
      "cell_type": "markdown",
      "source": [
        "1.Coloque o valor que deseja converter para dólar"
      ],
      "metadata": {
        "id": "KHV2c9WPdCcC"
      }
    },
    {
      "cell_type": "code",
      "execution_count": 13,
      "metadata": {
        "colab": {
          "base_uri": "https://localhost:8080/"
        },
        "id": "w1KANaFHZ3vh",
        "outputId": "b7330db7-4ca2-4c53-c575-f57dbd666545"
      },
      "outputs": [
        {
          "output_type": "stream",
          "name": "stdout",
          "text": [
            "Digite o valor em reais que deseja converter: 99\n",
            "Sua quantidade convertida é:  19.88\n"
          ]
        }
      ],
      "source": [
        "dolar=4.98\n",
        "real= float(input(\"Digite o valor em reais que deseja converter: \"))\n",
        "cnv=(real/dolar)\n",
        "print(\"Sua quantidade convertida é: \",round(cnv,2))"
      ]
    },
    {
      "cell_type": "code",
      "source": [
        "a=int(input(\"Dê o primeiro valor: \"))\n",
        "b=int(input(\"Dê o segundo valor: \"))\n",
        "c=int(input(\"Dê o terceiro valor: \"))\n",
        "d=int(input(\"Dê o quarto valor: \"))\n",
        "quadrado=(a*a)+(b*b)+(c*c)+(d*d)\n",
        "print(\"A soma dos quadrados são: \",quadrado)"
      ],
      "metadata": {
        "colab": {
          "base_uri": "https://localhost:8080/"
        },
        "id": "0XyHz1fQd0Yb",
        "outputId": "af1ae1cf-3826-4ddb-dd8d-64cb39990ca6"
      },
      "execution_count": 1,
      "outputs": [
        {
          "output_type": "stream",
          "name": "stdout",
          "text": [
            "Dê o primeiro valor: 2\n",
            "Dê o segundo valor: 4\n",
            "Dê o terceiro valor: 7\n",
            "Dê o quarto valor: 4\n",
            "A soma dos quadrados são:  85\n"
          ]
        }
      ]
    },
    {
      "cell_type": "code",
      "source": [
        "\n",
        "p=float(input(\"Preço unitário da peça: \"))\n",
        "q=float(input(\"Quantidade vendida: \"))\n",
        "c= (p*q) * 0.05\n",
        "print (\"O valor de sua comissão é: \",c)"
      ],
      "metadata": {
        "colab": {
          "base_uri": "https://localhost:8080/"
        },
        "id": "MNdFaKr7uzVT",
        "outputId": "bcd89d14-f38d-4140-cd8c-4688d3400890"
      },
      "execution_count": 2,
      "outputs": [
        {
          "output_type": "stream",
          "name": "stdout",
          "text": [
            "Preço unitário da peça: 750\n",
            "Quantidade vendida: 200\n",
            "O valor de sua comissão é:  7500.0\n"
          ]
        }
      ]
    },
    {
      "cell_type": "code",
      "source": [
        "cfc=float(input(\"Custo de fábrica do carro: \"))\n",
        "i=float(input(\"Imposto: \"))\n",
        "d=float(input(\"Distribuição: \"))\n",
        "c= (1+i/100) * cfc\n",
        "f= (1+d/100) * c\n",
        "print(\"Valor para o consumidor: \",f)"
      ],
      "metadata": {
        "colab": {
          "base_uri": "https://localhost:8080/"
        },
        "id": "9tmJ7C6LFYfI",
        "outputId": "4fa1597b-0963-402d-93a7-a84b1a537415"
      },
      "execution_count": 14,
      "outputs": [
        {
          "output_type": "stream",
          "name": "stdout",
          "text": [
            "Custo de fábrica do carro: 25000\n",
            "Imposto: 45\n",
            "Distribuição: 28\n",
            "Valor para o consumidor:  46400.0\n"
          ]
        }
      ]
    },
    {
      "cell_type": "code",
      "source": [
        "horas=float(input(\"Horas: \"))\n",
        "min=float(input(\"Minutos: \"))\n",
        "a=(min/60) + horas\n",
        "print(\"Conversão: \",round(a,2))"
      ],
      "metadata": {
        "colab": {
          "base_uri": "https://localhost:8080/"
        },
        "id": "qYx3AP0eMe5R",
        "outputId": "2ea08200-a915-48e2-810f-cf17152d97fa"
      },
      "execution_count": 19,
      "outputs": [
        {
          "output_type": "stream",
          "name": "stdout",
          "text": [
            "Horas: 4\n",
            "Minutos: 23\n",
            "Conversão:  4.38\n"
          ]
        }
      ]
    },
    {
      "cell_type": "code",
      "source": [
        "horas=float(input(\"Horas trabalhadas neste mês: \"))\n",
        "min=float(input(\"Minutos trabalhados neste mês: \"))\n",
        "a=(min/60) + horas\n",
        "b=float(input(\"Valor que você recebe por hora: \"))\n",
        "c=(1+70/100)\n",
        "d=(a*b) * c\n",
        "print(\"Você receberá: \",d)\n",
        "\n"
      ],
      "metadata": {
        "colab": {
          "base_uri": "https://localhost:8080/"
        },
        "id": "c2S57oClN6vY",
        "outputId": "b95d621c-2d31-473b-b06b-a69d814b535b"
      },
      "execution_count": 21,
      "outputs": [
        {
          "output_type": "stream",
          "name": "stdout",
          "text": [
            "Horas trabalhadas neste mês: 42\n",
            "Minutos trabalhados neste mês: 30\n",
            "Valor que você recebe por hora: 100\n",
            "Você receberá:  7225.0\n"
          ]
        }
      ]
    },
    {
      "cell_type": "code",
      "source": [
        "km=int(input(\"Quilômetros a percorrer: \"))\n",
        "carro=int(input(\"Quanto seu carro consome de Gasolina: \"))\n",
        "gasosa=float(input(\"Valor da Gasolina: \"))\n",
        "tudao=(km*carro * gasosa)/100\n",
        "print(\"O valor da ida será de: \",tudao, \"O valor de ida e volta será de:\",tudao*2)"
      ],
      "metadata": {
        "colab": {
          "base_uri": "https://localhost:8080/"
        },
        "id": "tUVwZlS-cDJN",
        "outputId": "320ad663-a50f-4932-a359-1c7ec3ab1343"
      },
      "execution_count": 26,
      "outputs": [
        {
          "output_type": "stream",
          "name": "stdout",
          "text": [
            "Quilômetros a percorrer: 450\n",
            "Quanto seu carro consome de Gasolina: 10\n",
            "Valor da Gasolina: 4.5\n",
            "O valor da ida será de:  202.5 O valor de ida e volta será de: 405.0\n"
          ]
        }
      ]
    },
    {
      "cell_type": "code",
      "source": [
        "obs=110\n",
        "pp=int(input(\"Qual o percurso percorrido: \"))\n",
        "tg=int(input(\"Qual as horas gastas no percurso? \"))\n",
        "tgp=int(input(\"Qual os minutos gastos no percurso? \"))\n",
        "tt=(tgp/60) + tg\n",
        "s=(pp/tt)\n",
        "print(\"A velocidade média é de: \",round(s,21))\n"
      ],
      "metadata": {
        "colab": {
          "base_uri": "https://localhost:8080/"
        },
        "id": "yC2nITwMgQW5",
        "outputId": "0c8af996-ba4c-42d9-9485-c36e886b138e"
      },
      "execution_count": 29,
      "outputs": [
        {
          "output_type": "stream",
          "name": "stdout",
          "text": [
            "Qual o percurso percorrido: 150\n",
            "Qual as horas gastas no percurso? 1\n",
            "Qual os minutos gastos no percurso? 3\n",
            "A velocidade média é de:  142.86\n"
          ]
        }
      ]
    }
  ]
}