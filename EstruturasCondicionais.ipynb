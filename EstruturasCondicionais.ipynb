{
  "nbformat": 4,
  "nbformat_minor": 0,
  "metadata": {
    "colab": {
      "provenance": [],
      "authorship_tag": "ABX9TyNXV6gUT1Ak1VHT7bpG6fLj",
      "include_colab_link": true
    },
    "kernelspec": {
      "name": "python3",
      "display_name": "Python 3"
    },
    "language_info": {
      "name": "python"
    }
  },
  "cells": [
    {
      "cell_type": "markdown",
      "metadata": {
        "id": "view-in-github",
        "colab_type": "text"
      },
      "source": [
        "<a href=\"https://colab.research.google.com/github/ArthurLuz28/Aulas_PA/blob/main/EstruturasCondicionais.ipynb\" target=\"_parent\"><img src=\"https://colab.research.google.com/assets/colab-badge.svg\" alt=\"Open In Colab\"/></a>"
      ]
    },
    {
      "cell_type": "code",
      "execution_count": 21,
      "metadata": {
        "colab": {
          "base_uri": "https://localhost:8080/"
        },
        "id": "WTAtpQM9aAvf",
        "outputId": "ddf57aa3-c529-4b29-f922-d55877ba0b6c"
      },
      "outputs": [
        {
          "name": "stdout",
          "output_type": "stream",
          "text": [
            "Primeira nota: 4\n",
            "Segunda nota: 3\n",
            "Terceira nota: 8\n"
          ]
        }
      ],
      "source": [
        "#Avaliar se um aluno foi aprovado, reprovado ou recuperação caso sua média de 3 notas seja\n",
        "#Aprovado média > 5\n",
        "#Reprovado média < 4\n",
        "#Recuperação média entre 4 e 5\n",
        "\n",
        "#Entrada das 3 notas\n",
        "n1 = float(input(\"Primeira nota: \"))\n",
        "n2 = float(input(\"Segunda nota: \"))\n",
        "n3 = float(input(\"Terceira nota: \"))"
      ]
    },
    {
      "cell_type": "code",
      "source": [
        "#Processamento da Média\n",
        "media = (n1+n2+n3)/3\n",
        "media"
      ],
      "metadata": {
        "colab": {
          "base_uri": "https://localhost:8080/"
        },
        "id": "hboY7rhhcm9q",
        "outputId": "44a26e9c-b342-4ab5-ebdc-6b8acd3b5df6"
      },
      "execution_count": 22,
      "outputs": [
        {
          "output_type": "execute_result",
          "data": {
            "text/plain": [
              "5.0"
            ]
          },
          "metadata": {},
          "execution_count": 22
        }
      ]
    },
    {
      "cell_type": "code",
      "source": [
        "#Avaliando o valor da média se é maior ou igual a 5\n",
        "if (media>5):\n",
        "  print(\"Aprovado\")\n",
        "else:\n",
        "  if (media<4):\n",
        "    print(\"VOCê FOI REPROVADO\")\n",
        "  else:\n",
        "   print(\"TU estas de recuperação bro\")\n",
        "print(\"Programa acabou\")"
      ],
      "metadata": {
        "colab": {
          "base_uri": "https://localhost:8080/"
        },
        "id": "ApbNTcAhdgj5",
        "outputId": "32de3c4b-b59c-419c-d7f6-0b018f52f368"
      },
      "execution_count": 23,
      "outputs": [
        {
          "output_type": "stream",
          "name": "stdout",
          "text": [
            "TU estas de recuperação bro\n",
            "Programa acabou\n"
          ]
        }
      ]
    }
  ]
}