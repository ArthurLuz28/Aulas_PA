{
  "nbformat": 4,
  "nbformat_minor": 0,
  "metadata": {
    "colab": {
      "provenance": [],
      "authorship_tag": "ABX9TyNXV6gUT1Ak1VHT7bpG6fLj",
      "include_colab_link": true
    },
    "kernelspec": {
      "name": "python3",
      "display_name": "Python 3"
    },
    "language_info": {
      "name": "python"
    }
  },
  "cells": [
    {
      "cell_type": "markdown",
      "metadata": {
        "id": "view-in-github",
        "colab_type": "text"
      },
      "source": [
        "<a href=\"https://colab.research.google.com/github/ArthurLuz28/Aulas_PA/blob/main/EstruturasCondicionais.ipynb\" target=\"_parent\"><img src=\"https://colab.research.google.com/assets/colab-badge.svg\" alt=\"Open In Colab\"/></a>"
      ]
    },
    {
      "cell_type": "code",
      "execution_count": 15,
      "metadata": {
        "colab": {
          "base_uri": "https://localhost:8080/"
        },
        "id": "WTAtpQM9aAvf",
        "outputId": "6929e613-2e5b-4444-e0bd-0f237887f84a"
      },
      "outputs": [
        {
          "name": "stdout",
          "output_type": "stream",
          "text": [
            "Primeira nota: 3\n",
            "Segunda nota: 4\n",
            "Terceira nota: 10\n"
          ]
        }
      ],
      "source": [
        "#Avaliar se um aluno foi aprovado, reprovado ou recuperação caso sua média de 3 notas seja\n",
        "#Aprovado média > 5\n",
        "#Reprovado média < 4\n",
        "#Recuperação média entre 4 e 5\n",
        "\n",
        "#Entrada das 3 notas\n",
        "n1 = float(input(\"Primeira nota: \"))\n",
        "n2 = float(input(\"Segunda nota: \"))\n",
        "n3 = float(input(\"Terceira nota: \"))"
      ]
    },
    {
      "cell_type": "code",
      "source": [
        "#Processamento da Média\n",
        "media = (n1+n2+n3)/3\n",
        "media"
      ],
      "metadata": {
        "colab": {
          "base_uri": "https://localhost:8080/"
        },
        "id": "hboY7rhhcm9q",
        "outputId": "31f2ca72-43fd-450f-d463-3babd81d9cf3"
      },
      "execution_count": 16,
      "outputs": [
        {
          "output_type": "execute_result",
          "data": {
            "text/plain": [
              "5.666666666666667"
            ]
          },
          "metadata": {},
          "execution_count": 16
        }
      ]
    },
    {
      "cell_type": "code",
      "source": [
        "#Avaliando o valor da média se é maior ou igual a 5\n",
        "if (media>5):\n",
        "  print(\"Aprovado\")\n",
        "else:\n",
        "  if (media<4):\n",
        "    print(\"VOCê FOI REPROVADO\")\n",
        "  else:\n",
        "   print(\"TU estas de recuperação bro\")\n",
        "print(\"Programa acabou\")"
      ],
      "metadata": {
        "colab": {
          "base_uri": "https://localhost:8080/"
        },
        "id": "ApbNTcAhdgj5",
        "outputId": "7d43cb5a-7339-4f0e-9532-873da130c303"
      },
      "execution_count": 17,
      "outputs": [
        {
          "output_type": "stream",
          "name": "stdout",
          "text": [
            "Aprovado\n",
            "Programa acabou(damn bro)\n"
          ]
        }
      ]
    }
  ]
}